{
 "cells": [
  {
   "cell_type": "code",
   "execution_count": 63,
   "metadata": {},
   "outputs": [],
   "source": [
    "import pandas as pd\n",
    "import numpy as np\n",
    "import matplotlib.pyplot as plt\n",
    "import datetime\n",
    "\n",
    "from sklearn import preprocessing\n",
    "from sklearn.linear_model import LogisticRegression\n",
    "from sklearn.model_selection import train_test_split\n",
    "from sklearn.metrics import recall_score, precision_score"
   ]
  },
  {
   "cell_type": "code",
   "execution_count": 5,
   "metadata": {},
   "outputs": [
    {
     "data": {
      "text/html": [
       "<div>\n",
       "<style scoped>\n",
       "    .dataframe tbody tr th:only-of-type {\n",
       "        vertical-align: middle;\n",
       "    }\n",
       "\n",
       "    .dataframe tbody tr th {\n",
       "        vertical-align: top;\n",
       "    }\n",
       "\n",
       "    .dataframe thead th {\n",
       "        text-align: right;\n",
       "    }\n",
       "</style>\n",
       "<table border=\"1\" class=\"dataframe\">\n",
       "  <thead>\n",
       "    <tr style=\"text-align: right;\">\n",
       "      <th></th>\n",
       "      <th>CustomerID</th>\n",
       "      <th>Restaurant</th>\n",
       "      <th>RKDate</th>\n",
       "      <th>RegionName</th>\n",
       "      <th>BrandsNames</th>\n",
       "      <th>DishCategoryName</th>\n",
       "      <th>Quantity</th>\n",
       "      <th>SummBasic</th>\n",
       "      <th>SummAfterPointsUsage</th>\n",
       "    </tr>\n",
       "  </thead>\n",
       "  <tbody>\n",
       "    <tr>\n",
       "      <td>0</td>\n",
       "      <td>2898197</td>\n",
       "      <td>391</td>\n",
       "      <td>2017-07-16</td>\n",
       "      <td>Москва и Московская область</td>\n",
       "      <td>TGI FRIDAYS</td>\n",
       "      <td>NON ALCOHOL</td>\n",
       "      <td>2</td>\n",
       "      <td>2.0</td>\n",
       "      <td>2.0</td>\n",
       "    </tr>\n",
       "    <tr>\n",
       "      <td>1</td>\n",
       "      <td>2903215</td>\n",
       "      <td>43</td>\n",
       "      <td>2015-04-07</td>\n",
       "      <td>Москва и Московская область</td>\n",
       "      <td>IL Патио</td>\n",
       "      <td>NON ALCOHOL</td>\n",
       "      <td>1</td>\n",
       "      <td>5.0</td>\n",
       "      <td>5.0</td>\n",
       "    </tr>\n",
       "    <tr>\n",
       "      <td>2</td>\n",
       "      <td>2748887</td>\n",
       "      <td>43</td>\n",
       "      <td>2015-05-22</td>\n",
       "      <td>Москва и Московская область</td>\n",
       "      <td>IL Патио</td>\n",
       "      <td>NON ALCOHOL</td>\n",
       "      <td>1</td>\n",
       "      <td>5.0</td>\n",
       "      <td>5.0</td>\n",
       "    </tr>\n",
       "    <tr>\n",
       "      <td>3</td>\n",
       "      <td>2862077</td>\n",
       "      <td>46</td>\n",
       "      <td>2015-03-05</td>\n",
       "      <td>Москва и Московская область</td>\n",
       "      <td>IL Патио</td>\n",
       "      <td>NON ALCOHOL</td>\n",
       "      <td>1</td>\n",
       "      <td>5.0</td>\n",
       "      <td>5.0</td>\n",
       "    </tr>\n",
       "    <tr>\n",
       "      <td>4</td>\n",
       "      <td>2862077</td>\n",
       "      <td>46</td>\n",
       "      <td>2015-03-11</td>\n",
       "      <td>Москва и Московская область</td>\n",
       "      <td>IL Патио</td>\n",
       "      <td>NON ALCOHOL</td>\n",
       "      <td>1</td>\n",
       "      <td>5.0</td>\n",
       "      <td>5.0</td>\n",
       "    </tr>\n",
       "  </tbody>\n",
       "</table>\n",
       "</div>"
      ],
      "text/plain": [
       "   CustomerID  Restaurant     RKDate                    RegionName  \\\n",
       "0     2898197         391 2017-07-16  Москва и Московская область    \n",
       "1     2903215          43 2015-04-07  Москва и Московская область    \n",
       "2     2748887          43 2015-05-22  Москва и Московская область    \n",
       "3     2862077          46 2015-03-05  Москва и Московская область    \n",
       "4     2862077          46 2015-03-11  Москва и Московская область    \n",
       "\n",
       "   BrandsNames DishCategoryName  Quantity  SummBasic  SummAfterPointsUsage  \n",
       "0  TGI FRIDAYS      NON ALCOHOL         2        2.0                   2.0  \n",
       "1     IL Патио      NON ALCOHOL         1        5.0                   5.0  \n",
       "2     IL Патио      NON ALCOHOL         1        5.0                   5.0  \n",
       "3     IL Патио      NON ALCOHOL         1        5.0                   5.0  \n",
       "4     IL Патио      NON ALCOHOL         1        5.0                   5.0  "
      ]
     },
     "execution_count": 5,
     "metadata": {},
     "output_type": "execute_result"
    }
   ],
   "source": [
    "#экспорт файла1\n",
    "cascresto=pd.read_csv('D:\\casc-resto.csv', sep=';',decimal=\",\")\n",
    "cascresto.head()"
   ]
  },
  {
   "cell_type": "code",
   "execution_count": 14,
   "metadata": {},
   "outputs": [
    {
     "name": "stdout",
     "output_type": "stream",
     "text": [
      "<class 'pandas.core.frame.DataFrame'>\n",
      "Int64Index: 881608 entries, 0 to 882221\n",
      "Data columns (total 9 columns):\n",
      "CustomerID              881608 non-null int64\n",
      "Restaurant              881608 non-null int64\n",
      "RKDate                  881608 non-null datetime64[ns]\n",
      "RegionName              881608 non-null object\n",
      "BrandsNames             881608 non-null object\n",
      "DishCategoryName        881608 non-null object\n",
      "Quantity                881608 non-null int64\n",
      "SummBasic               881608 non-null float64\n",
      "SummAfterPointsUsage    881608 non-null float64\n",
      "dtypes: datetime64[ns](1), float64(2), int64(3), object(3)\n",
      "memory usage: 67.3+ MB\n"
     ]
    }
   ],
   "source": [
    "cascresto.info()"
   ]
  },
  {
   "cell_type": "code",
   "execution_count": null,
   "metadata": {},
   "outputs": [],
   "source": [
    "#преобразование данных к типу дата\n",
    "cascresto['RKDate'] = pd.to_datetime(cascresto['RKDate'])\n",
    "cascresto.info()"
   ]
  },
  {
   "cell_type": "code",
   "execution_count": 8,
   "metadata": {},
   "outputs": [
    {
     "data": {
      "text/html": [
       "<div>\n",
       "<style scoped>\n",
       "    .dataframe tbody tr th:only-of-type {\n",
       "        vertical-align: middle;\n",
       "    }\n",
       "\n",
       "    .dataframe tbody tr th {\n",
       "        vertical-align: top;\n",
       "    }\n",
       "\n",
       "    .dataframe thead th {\n",
       "        text-align: right;\n",
       "    }\n",
       "</style>\n",
       "<table border=\"1\" class=\"dataframe\">\n",
       "  <thead>\n",
       "    <tr style=\"text-align: right;\">\n",
       "      <th></th>\n",
       "      <th>CustomerId</th>\n",
       "      <th>ActivationDate</th>\n",
       "      <th>Age</th>\n",
       "      <th>Sex</th>\n",
       "      <th>SubscribedEmail</th>\n",
       "      <th>SubscribedPush</th>\n",
       "    </tr>\n",
       "  </thead>\n",
       "  <tbody>\n",
       "    <tr>\n",
       "      <td>0</td>\n",
       "      <td>2728183</td>\n",
       "      <td>2015-01-01</td>\n",
       "      <td>21.0</td>\n",
       "      <td>Female</td>\n",
       "      <td>False</td>\n",
       "      <td>True</td>\n",
       "    </tr>\n",
       "    <tr>\n",
       "      <td>1</td>\n",
       "      <td>2728198</td>\n",
       "      <td>2015-01-01</td>\n",
       "      <td>21.0</td>\n",
       "      <td>Female</td>\n",
       "      <td>True</td>\n",
       "      <td>True</td>\n",
       "    </tr>\n",
       "    <tr>\n",
       "      <td>2</td>\n",
       "      <td>2728306</td>\n",
       "      <td>2015-01-01</td>\n",
       "      <td>21.0</td>\n",
       "      <td>Female</td>\n",
       "      <td>True</td>\n",
       "      <td>True</td>\n",
       "    </tr>\n",
       "    <tr>\n",
       "      <td>3</td>\n",
       "      <td>2728178</td>\n",
       "      <td>2015-01-01</td>\n",
       "      <td>22.0</td>\n",
       "      <td>Male</td>\n",
       "      <td>True</td>\n",
       "      <td>True</td>\n",
       "    </tr>\n",
       "    <tr>\n",
       "      <td>4</td>\n",
       "      <td>2728322</td>\n",
       "      <td>2015-01-01</td>\n",
       "      <td>22.0</td>\n",
       "      <td>Male</td>\n",
       "      <td>True</td>\n",
       "      <td>True</td>\n",
       "    </tr>\n",
       "  </tbody>\n",
       "</table>\n",
       "</div>"
      ],
      "text/plain": [
       "   CustomerId ActivationDate   Age     Sex  SubscribedEmail  SubscribedPush\n",
       "0     2728183     2015-01-01  21.0  Female            False            True\n",
       "1     2728198     2015-01-01  21.0  Female             True            True\n",
       "2     2728306     2015-01-01  21.0  Female             True            True\n",
       "3     2728178     2015-01-01  22.0    Male             True            True\n",
       "4     2728322     2015-01-01  22.0    Male             True            True"
      ]
     },
     "execution_count": 8,
     "metadata": {},
     "output_type": "execute_result"
    }
   ],
   "source": [
    "#экспорт файла2\n",
    "cascconstant=pd.read_csv('D:\\CASC_Constant.csv', sep=',')\n",
    "cascconstant.head()"
   ]
  },
  {
   "cell_type": "code",
   "execution_count": 18,
   "metadata": {},
   "outputs": [
    {
     "name": "stdout",
     "output_type": "stream",
     "text": [
      "<class 'pandas.core.frame.DataFrame'>\n",
      "Int64Index: 8856 entries, 0 to 9998\n",
      "Data columns (total 6 columns):\n",
      "CustomerId         8856 non-null int64\n",
      "ActivationDate     8856 non-null object\n",
      "Age                8856 non-null float64\n",
      "Sex                8856 non-null object\n",
      "SubscribedEmail    8856 non-null bool\n",
      "SubscribedPush     8856 non-null bool\n",
      "dtypes: bool(2), float64(1), int64(1), object(2)\n",
      "memory usage: 363.2+ KB\n"
     ]
    }
   ],
   "source": [
    "cascconstant.info()"
   ]
  },
  {
   "cell_type": "code",
   "execution_count": null,
   "metadata": {},
   "outputs": [],
   "source": [
    "#преобразование данных к типу дата\n",
    "cascconstant['RKDate'] = pd.to_datetime(cascconstant['RKDate'])\n",
    "cascconstant.info()"
   ]
  },
  {
   "cell_type": "code",
   "execution_count": 10,
   "metadata": {},
   "outputs": [
    {
     "name": "stdout",
     "output_type": "stream",
     "text": [
      "(881608, 9)\n"
     ]
    }
   ],
   "source": [
    "#проверка и очистка выборки стррок с пустыми значениями файла1\n",
    "print (cascresto.shape)\n",
    "cascresto = cascresto.dropna() "
   ]
  },
  {
   "cell_type": "code",
   "execution_count": 11,
   "metadata": {},
   "outputs": [
    {
     "name": "stdout",
     "output_type": "stream",
     "text": [
      "(881608, 9)\n"
     ]
    }
   ],
   "source": [
    "print (cascresto.shape)"
   ]
  },
  {
   "cell_type": "code",
   "execution_count": 12,
   "metadata": {},
   "outputs": [
    {
     "name": "stdout",
     "output_type": "stream",
     "text": [
      "(10000, 6)\n"
     ]
    }
   ],
   "source": [
    "#проверка и очистка выборки стррок с пустыми значениями файла2\n",
    "print (cascconstant.shape)\n",
    "cascconstant = cascconstant.dropna() "
   ]
  },
  {
   "cell_type": "code",
   "execution_count": 13,
   "metadata": {},
   "outputs": [
    {
     "name": "stdout",
     "output_type": "stream",
     "text": [
      "(8856, 6)\n"
     ]
    }
   ],
   "source": [
    "print (cascconstant.shape)"
   ]
  },
  {
   "cell_type": "code",
   "execution_count": 17,
   "metadata": {},
   "outputs": [
    {
     "data": {
      "text/html": [
       "<div>\n",
       "<style scoped>\n",
       "    .dataframe tbody tr th:only-of-type {\n",
       "        vertical-align: middle;\n",
       "    }\n",
       "\n",
       "    .dataframe tbody tr th {\n",
       "        vertical-align: top;\n",
       "    }\n",
       "\n",
       "    .dataframe thead th {\n",
       "        text-align: right;\n",
       "    }\n",
       "</style>\n",
       "<table border=\"1\" class=\"dataframe\">\n",
       "  <thead>\n",
       "    <tr style=\"text-align: right;\">\n",
       "      <th></th>\n",
       "      <th>Flag</th>\n",
       "      <th>Recency</th>\n",
       "      <th>Frequency</th>\n",
       "      <th>Monetary_value</th>\n",
       "      <th>Times_using_discount</th>\n",
       "    </tr>\n",
       "    <tr>\n",
       "      <th>CustomerID</th>\n",
       "      <th></th>\n",
       "      <th></th>\n",
       "      <th></th>\n",
       "      <th></th>\n",
       "      <th></th>\n",
       "    </tr>\n",
       "  </thead>\n",
       "  <tbody>\n",
       "    <tr>\n",
       "      <td>2728046</td>\n",
       "      <td>False</td>\n",
       "      <td>160.0</td>\n",
       "      <td>8.142857</td>\n",
       "      <td>251.789474</td>\n",
       "      <td>3</td>\n",
       "    </tr>\n",
       "    <tr>\n",
       "      <td>2728088</td>\n",
       "      <td>False</td>\n",
       "      <td>720.0</td>\n",
       "      <td>17.000000</td>\n",
       "      <td>279.647059</td>\n",
       "      <td>0</td>\n",
       "    </tr>\n",
       "    <tr>\n",
       "      <td>2728089</td>\n",
       "      <td>True</td>\n",
       "      <td>15.0</td>\n",
       "      <td>6.600000</td>\n",
       "      <td>398.734848</td>\n",
       "      <td>16</td>\n",
       "    </tr>\n",
       "    <tr>\n",
       "      <td>2728095</td>\n",
       "      <td>False</td>\n",
       "      <td>177.0</td>\n",
       "      <td>9.000000</td>\n",
       "      <td>262.737374</td>\n",
       "      <td>42</td>\n",
       "    </tr>\n",
       "    <tr>\n",
       "      <td>2728107</td>\n",
       "      <td>True</td>\n",
       "      <td>115.0</td>\n",
       "      <td>5.250000</td>\n",
       "      <td>393.714286</td>\n",
       "      <td>7</td>\n",
       "    </tr>\n",
       "  </tbody>\n",
       "</table>\n",
       "</div>"
      ],
      "text/plain": [
       "             Flag  Recency  Frequency  Monetary_value  Times_using_discount\n",
       "CustomerID                                                                 \n",
       "2728046     False    160.0   8.142857      251.789474                     3\n",
       "2728088     False    720.0  17.000000      279.647059                     0\n",
       "2728089      True     15.0   6.600000      398.734848                    16\n",
       "2728095     False    177.0   9.000000      262.737374                    42\n",
       "2728107      True    115.0   5.250000      393.714286                     7"
      ]
     },
     "execution_count": 17,
     "metadata": {},
     "output_type": "execute_result"
    }
   ],
   "source": [
    "startdate=datetime.datetime(2017,7,1)\n",
    "enddate=datetime.datetime(2017,12,31)\n",
    "#поготовка данных\n",
    "group=cascresto.groupby(['CustomerID'])\n",
    "def build_statistics(record):\n",
    "    return pd.Series({    \n",
    "        # флаг = зависимая переменная Y\n",
    "        'Flag': len(record.loc[(startdate <= record['RKDate']) & (enddate >= record['RKDate'])]) > 0,\n",
    "        # Количество дней до последнего визита клиента перед зафиксированной датой 2017-07-01\n",
    "        'Recency': pd.Timedelta(startdate - record[startdate > record['RKDate']]['RKDate'].max()).days,\n",
    "        # Средняя частота походов клиентов на дату 2017-07-01, измеряется как среднее количество визитов в месяц за время между 2017-07-01 и первым визитом клиента\n",
    "        'Frequency': record[record['RKDate'] < startdate].groupby([record[record['RKDate'] < startdate]['RKDate'].dt.year, record[record['RKDate'] < startdate]['RKDate'].dt.month]).size().mean(),\n",
    "        # Средний чек клиента по всем покупкам до 2017-07-01\n",
    "        'Monetary_value': record[startdate > record['RKDate']]['SummAfterPointsUsage'].mean(),\n",
    "        # Сколько раз использовалась скидка\n",
    "        'Times_using_discount': len(record[record['SummBasic']!=record['SummAfterPointsUsage']])\n",
    "    })\n",
    "\n",
    "statistics = group.apply(build_statistics)\n",
    "statistics.head()"
   ]
  },
  {
   "cell_type": "code",
   "execution_count": 26,
   "metadata": {},
   "outputs": [
    {
     "data": {
      "text/html": [
       "<div>\n",
       "<style scoped>\n",
       "    .dataframe tbody tr th:only-of-type {\n",
       "        vertical-align: middle;\n",
       "    }\n",
       "\n",
       "    .dataframe tbody tr th {\n",
       "        vertical-align: top;\n",
       "    }\n",
       "\n",
       "    .dataframe thead th {\n",
       "        text-align: right;\n",
       "    }\n",
       "</style>\n",
       "<table border=\"1\" class=\"dataframe\">\n",
       "  <thead>\n",
       "    <tr style=\"text-align: right;\">\n",
       "      <th></th>\n",
       "      <th>Flag</th>\n",
       "      <th>Recency</th>\n",
       "      <th>Frequency</th>\n",
       "      <th>Monetary_value</th>\n",
       "      <th>Times_using_discount</th>\n",
       "      <th>CustomerId</th>\n",
       "      <th>Sex</th>\n",
       "      <th>Age</th>\n",
       "    </tr>\n",
       "  </thead>\n",
       "  <tbody>\n",
       "    <tr>\n",
       "      <td>0</td>\n",
       "      <td>False</td>\n",
       "      <td>160.0</td>\n",
       "      <td>8.142857</td>\n",
       "      <td>251.789474</td>\n",
       "      <td>3</td>\n",
       "      <td>2728046</td>\n",
       "      <td>Female</td>\n",
       "      <td>24.0</td>\n",
       "    </tr>\n",
       "    <tr>\n",
       "      <td>1</td>\n",
       "      <td>False</td>\n",
       "      <td>720.0</td>\n",
       "      <td>17.000000</td>\n",
       "      <td>279.647059</td>\n",
       "      <td>0</td>\n",
       "      <td>2728088</td>\n",
       "      <td>Male</td>\n",
       "      <td>46.0</td>\n",
       "    </tr>\n",
       "    <tr>\n",
       "      <td>2</td>\n",
       "      <td>True</td>\n",
       "      <td>15.0</td>\n",
       "      <td>6.600000</td>\n",
       "      <td>398.734848</td>\n",
       "      <td>16</td>\n",
       "      <td>2728089</td>\n",
       "      <td>Female</td>\n",
       "      <td>27.0</td>\n",
       "    </tr>\n",
       "    <tr>\n",
       "      <td>3</td>\n",
       "      <td>False</td>\n",
       "      <td>177.0</td>\n",
       "      <td>9.000000</td>\n",
       "      <td>262.737374</td>\n",
       "      <td>42</td>\n",
       "      <td>2728095</td>\n",
       "      <td>Female</td>\n",
       "      <td>54.0</td>\n",
       "    </tr>\n",
       "    <tr>\n",
       "      <td>4</td>\n",
       "      <td>True</td>\n",
       "      <td>115.0</td>\n",
       "      <td>5.250000</td>\n",
       "      <td>393.714286</td>\n",
       "      <td>7</td>\n",
       "      <td>2728107</td>\n",
       "      <td>Male</td>\n",
       "      <td>48.0</td>\n",
       "    </tr>\n",
       "  </tbody>\n",
       "</table>\n",
       "</div>"
      ],
      "text/plain": [
       "    Flag  Recency  Frequency  Monetary_value  Times_using_discount  \\\n",
       "0  False    160.0   8.142857      251.789474                     3   \n",
       "1  False    720.0  17.000000      279.647059                     0   \n",
       "2   True     15.0   6.600000      398.734848                    16   \n",
       "3  False    177.0   9.000000      262.737374                    42   \n",
       "4   True    115.0   5.250000      393.714286                     7   \n",
       "\n",
       "   CustomerId     Sex   Age  \n",
       "0     2728046  Female  24.0  \n",
       "1     2728088    Male  46.0  \n",
       "2     2728089  Female  27.0  \n",
       "3     2728095  Female  54.0  \n",
       "4     2728107    Male  48.0  "
      ]
     },
     "execution_count": 26,
     "metadata": {},
     "output_type": "execute_result"
    }
   ],
   "source": [
    "#соеденить 2 файла\n",
    "fulltable = pd.merge(left=statistics, right=cascconstant[['CustomerId','Sex', 'Age']], left_on='CustomerID', right_on='CustomerId', how='right')\n",
    "fulltable=fulltable.dropna()\n",
    "fulltable.head()"
   ]
  },
  {
   "cell_type": "code",
   "execution_count": 27,
   "metadata": {},
   "outputs": [
    {
     "name": "stdout",
     "output_type": "stream",
     "text": [
      "<class 'pandas.core.frame.DataFrame'>\n",
      "Int64Index: 1760 entries, 8742 to 7005\n",
      "Data columns (total 8 columns):\n",
      "Flag                    1760 non-null bool\n",
      "Recency                 1760 non-null float64\n",
      "Frequency               1760 non-null float64\n",
      "Monetary_value          1760 non-null float64\n",
      "Times_using_discount    1760 non-null int64\n",
      "CustomerId              1760 non-null int64\n",
      "Sex                     1760 non-null object\n",
      "Age                     1760 non-null float64\n",
      "dtypes: bool(1), float64(4), int64(2), object(1)\n",
      "memory usage: 111.7+ KB\n"
     ]
    }
   ],
   "source": [
    "#Разбеение клиентов случайно на две группы в соотношении 80:20 на тестовую и обучающую выборку\n",
    "train, test = train_test_split(fulltable, test_size=0.2)\n",
    "test.info()"
   ]
  },
  {
   "cell_type": "code",
   "execution_count": 28,
   "metadata": {},
   "outputs": [
    {
     "name": "stdout",
     "output_type": "stream",
     "text": [
      "<class 'pandas.core.frame.DataFrame'>\n",
      "Int64Index: 7040 entries, 6814 to 6022\n",
      "Data columns (total 8 columns):\n",
      "Flag                    7040 non-null bool\n",
      "Recency                 7040 non-null float64\n",
      "Frequency               7040 non-null float64\n",
      "Monetary_value          7040 non-null float64\n",
      "Times_using_discount    7040 non-null int64\n",
      "CustomerId              7040 non-null int64\n",
      "Sex                     7040 non-null object\n",
      "Age                     7040 non-null float64\n",
      "dtypes: bool(1), float64(4), int64(2), object(1)\n",
      "memory usage: 446.9+ KB\n"
     ]
    }
   ],
   "source": [
    "train.info()"
   ]
  },
  {
   "cell_type": "code",
   "execution_count": 55,
   "metadata": {},
   "outputs": [],
   "source": [
    "X_train = train[['Recency', 'Frequency', 'Monetary_value']]\n",
    "Y_train = train.Flag \n",
    "X_test = test[['Recency', 'Frequency', 'Monetary_value']]\n",
    "Y_test = test.Flag "
   ]
  },
  {
   "cell_type": "code",
   "execution_count": 56,
   "metadata": {},
   "outputs": [],
   "source": [
    "classifier = LogisticRegression(solver='lbfgs',random_state=0)"
   ]
  },
  {
   "cell_type": "code",
   "execution_count": 57,
   "metadata": {},
   "outputs": [
    {
     "data": {
      "text/plain": [
       "LogisticRegression(C=1.0, class_weight=None, dual=False, fit_intercept=True,\n",
       "                   intercept_scaling=1, l1_ratio=None, max_iter=100,\n",
       "                   multi_class='warn', n_jobs=None, penalty='l2',\n",
       "                   random_state=0, solver='lbfgs', tol=0.0001, verbose=0,\n",
       "                   warm_start=False)"
      ]
     },
     "execution_count": 57,
     "metadata": {},
     "output_type": "execute_result"
    }
   ],
   "source": [
    "classifier.fit(X_train, Y_train)"
   ]
  },
  {
   "cell_type": "code",
   "execution_count": 60,
   "metadata": {},
   "outputs": [],
   "source": [
    "Y_pred = classifier.predict(X_test)"
   ]
  },
  {
   "cell_type": "code",
   "execution_count": 61,
   "metadata": {},
   "outputs": [
    {
     "data": {
      "text/plain": [
       "array([ True, False,  True, ...,  True, False,  True])"
      ]
     },
     "execution_count": 61,
     "metadata": {},
     "output_type": "execute_result"
    }
   ],
   "source": [
    "Y_pred"
   ]
  },
  {
   "cell_type": "code",
   "execution_count": 66,
   "metadata": {},
   "outputs": [
    {
     "name": "stdout",
     "output_type": "stream",
     "text": [
      "Score: 0.7295454545454545\n",
      "Precision: 0.818955042527339\n",
      "Recall: 0.6733266733266733\n"
     ]
    }
   ],
   "source": [
    "print('Score: ' + str(classifier.score(X_test, Y_test)))\n",
    "print('Precision: ' + str(precision_score(Y_pred, Y_test)))\n",
    "print('Recall: ' + str(recall_score(Y_pred, Y_test)))"
   ]
  },
  {
   "cell_type": "code",
   "execution_count": null,
   "metadata": {},
   "outputs": [],
   "source": []
  },
  {
   "cell_type": "code",
   "execution_count": null,
   "metadata": {},
   "outputs": [],
   "source": []
  }
 ],
 "metadata": {
  "kernelspec": {
   "display_name": "Python 3",
   "language": "python",
   "name": "python3"
  },
  "language_info": {
   "codemirror_mode": {
    "name": "ipython",
    "version": 3
   },
   "file_extension": ".py",
   "mimetype": "text/x-python",
   "name": "python",
   "nbconvert_exporter": "python",
   "pygments_lexer": "ipython3",
   "version": "3.7.4"
  }
 },
 "nbformat": 4,
 "nbformat_minor": 2
}
